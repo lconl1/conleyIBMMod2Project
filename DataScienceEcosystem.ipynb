{
 "cells": [
  {
   "cell_type": "markdown",
   "id": "80fc2752-4da4-4d68-8cc0-757af1ba79ee",
   "metadata": {},
   "source": [
    "# Data Science and Ecosystems"
   ]
  },
  {
   "cell_type": "markdown",
   "id": "d8a91eba-ec67-4529-9606-c5f4e731797b",
   "metadata": {},
   "source": [
    "## In this notebook Data Science Tools and Ecosystem are summarized. This is Lindsey Conley's final project for Data Science Tools Module."
   ]
  },
  {
   "cell_type": "markdown",
   "id": "88667870-b14d-4b99-862f-d48976a0a076",
   "metadata": {},
   "source": [
    "**Objectives**\n",
    "- Popular Data Science languages\n",
    "- Common Data Science libraries\n",
    "- Some Data Science Tools available "
   ]
  },
  {
   "cell_type": "markdown",
   "id": "e343e688-5f40-483e-9881-f6760df25fe5",
   "metadata": {},
   "source": [
    "### Some popular languages that Data Scientists use are:\n",
    "\n",
    "1. Python\n",
    "2. R\n",
    "3. Julia\n",
    "4. SQL\n",
    "5. Scala"
   ]
  },
  {
   "cell_type": "markdown",
   "id": "dd5d4aab-6be3-4cf4-ae5b-22052369377b",
   "metadata": {},
   "source": [
    "### Some of the commonly used libraries Data Scientists use are:\n",
    "\n",
    "1. Pandas\n",
    "2. Seaborn\n",
    "3. Scikit-learn\n",
    "4. Keras\n",
    "5. Numpy"
   ]
  },
  {
   "cell_type": "markdown",
   "id": "45090a9b-15e3-49e9-bc5c-ac76a96c9408",
   "metadata": {},
   "source": [
    "|Data Science Tools|\n",
    "|------------------|\n",
    "|JupyterNotebook   |\n",
    "|GitHub            |\n",
    "|RStudio           |\n"
   ]
  },
  {
   "cell_type": "markdown",
   "id": "c33bd25b-6bb8-4ca0-bef3-21f3d8b016f8",
   "metadata": {},
   "source": [
    "### Here are a few examples of evaluating arithmetic expressions in Python"
   ]
  },
  {
   "cell_type": "markdown",
   "id": "37337274-cdd5-4467-8c67-72adae08b3ed",
   "metadata": {},
   "source": [
    "#### This is a simple arithmetic expression to multiply then add integers"
   ]
  },
  {
   "cell_type": "code",
   "execution_count": 1,
   "id": "6f888a72-96b2-4700-be5b-03f9811da939",
   "metadata": {
    "tags": []
   },
   "outputs": [
    {
     "data": {
      "text/plain": [
       "17"
      ]
     },
     "execution_count": 1,
     "metadata": {},
     "output_type": "execute_result"
    }
   ],
   "source": [
    "(3*4)+5"
   ]
  },
  {
   "cell_type": "markdown",
   "id": "347273f0-bb06-4a7c-b622-a3ee3fe5e414",
   "metadata": {},
   "source": [
    "#### This will convert 200 minutes to hours by dividing by 60"
   ]
  },
  {
   "cell_type": "code",
   "execution_count": 4,
   "id": "653262ff-cb6a-4e0f-8a30-bee66b7c952e",
   "metadata": {
    "tags": []
   },
   "outputs": [
    {
     "data": {
      "text/plain": [
       "3.3333333333333335"
      ]
     },
     "execution_count": 4,
     "metadata": {},
     "output_type": "execute_result"
    }
   ],
   "source": [
    "200/60"
   ]
  },
  {
   "cell_type": "markdown",
   "id": "87e8a344-046d-462f-8344-ccffee1463f4",
   "metadata": {},
   "source": [
    "#### 200 minutes equals approximately 3.3 hours"
   ]
  },
  {
   "cell_type": "markdown",
   "id": "9ca59ca7-6fef-4fc3-94bd-a2bf76f733af",
   "metadata": {},
   "source": [
    "## Author\n",
    "Lindsey Conley "
   ]
  },
  {
   "cell_type": "code",
   "execution_count": null,
   "id": "e745707c-f61b-4bd8-983b-2dc1d4eff20d",
   "metadata": {},
   "outputs": [],
   "source": []
  }
 ],
 "metadata": {
  "kernelspec": {
   "display_name": "Python",
   "language": "python",
   "name": "conda-env-python-py"
  },
  "language_info": {
   "codemirror_mode": {
    "name": "ipython",
    "version": 3
   },
   "file_extension": ".py",
   "mimetype": "text/x-python",
   "name": "python",
   "nbconvert_exporter": "python",
   "pygments_lexer": "ipython3",
   "version": "3.7.12"
  }
 },
 "nbformat": 4,
 "nbformat_minor": 5
}
